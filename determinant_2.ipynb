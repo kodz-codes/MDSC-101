{
 "cells": [
  {
   "cell_type": "code",
   "execution_count": 8,
   "id": "d81a8a94",
   "metadata": {},
   "outputs": [
    {
     "name": "stdout",
     "output_type": "stream",
     "text": [
      "please enter a number into the matrix positioned 0th row and 0th column\n",
      "please enter a number into the matrix positioned 0th row and 1th column\n",
      "please enter a number into the matrix positioned 1th row and 0th column\n",
      "please enter a number into the matrix positioned 1th row and 1th column\n",
      "[[1, 2], [3, 4]]\n",
      "please enter a number into the matrix positioned 0th row and 0th column\n",
      "please enter a number into the matrix positioned 0th row and 1th column\n",
      "please enter a number into the matrix positioned 1th row and 0th column\n",
      "please enter a number into the matrix positioned 1th row and 1th column\n",
      "[[1, 2], [3, 4]]\n",
      "-2 -2\n"
     ]
    }
   ],
   "source": [
    "import mat_vec_input as in_put\n",
    "\n",
    "mat_a,mat_b,result = [],[],[] # intializing the mat_a, mat_b to null.\n",
    "rows_of_mat_a,cols_of_mat_a  = int(input(\"Please enter the no. of rows of matrix A : \")),int(input(\"Please enter the no. of columns of matrix  A : \"))\n",
    "rows_of_mat_b, cols_of_mat_b  = int(input(\"Please enter the no. of rows of matrix B : \")),int(input(\"Please enter the no. of columns of matrix B : \"))\n",
    "\n",
    "in_put.matrix_input(rows_of_mat_a,cols_of_mat_a,rows_of_mat_b,cols_of_mat_b,mat_a,mat_b)\n",
    "\n",
    "def det_2(mat_a):\n",
    "    det = (mat_a[0][0]*mat_a[1][1]) - (mat_a[0][1]*mat_a[1][0])\n",
    "    return det\n",
    "determinant = det_2(mat_a)\n",
    "print(determinant)"
   ]
  }
 ],
 "metadata": {
  "kernelspec": {
   "display_name": "Python 3 (ipykernel)",
   "language": "python",
   "name": "python3"
  },
  "language_info": {
   "codemirror_mode": {
    "name": "ipython",
    "version": 3
   },
   "file_extension": ".py",
   "mimetype": "text/x-python",
   "name": "python",
   "nbconvert_exporter": "python",
   "pygments_lexer": "ipython3",
   "version": "3.11.1"
  }
 },
 "nbformat": 4,
 "nbformat_minor": 5
}
