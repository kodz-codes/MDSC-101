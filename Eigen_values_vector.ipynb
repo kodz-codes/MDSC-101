{
  "nbformat": 4,
  "nbformat_minor": 0,
  "metadata": {
    "colab": {
      "provenance": []
    },
    "kernelspec": {
      "name": "python3",
      "display_name": "Python 3"
    },
    "language_info": {
      "name": "python"
    }
  },
  "cells": [
    {
      "cell_type": "code",
      "execution_count": 2,
      "metadata": {
        "colab": {
          "base_uri": "https://localhost:8080/"
        },
        "id": "vEuRfyeEUFBq",
        "outputId": "f20ec207-5e01-46c2-ec02-1059e4fcf6c2"
      },
      "outputs": [
        {
          "output_type": "stream",
          "name": "stdout",
          "text": [
            "Mounted at /content/gdrive\n"
          ]
        }
      ],
      "source": [
        "from google.colab import drive\n",
        "drive.mount('/content/gdrive')"
      ]
    },
    {
      "cell_type": "code",
      "source": [
        "import numpy as np\n",
        "from numpy import linalg as la\n",
        "\n",
        "def matrix_input(rows_of_mat_a,cols_of_mat_a,mat_a):\n",
        "    #Taking the input values of matrix A\n",
        "    for i in range(0,rows_of_mat_a):\n",
        "        temp = []\n",
        "        for j in range(0,cols_of_mat_a):\n",
        "            print(\"please enter a number into the matrix positioned \"+ str(i) +\"th row and \"+ str(j) +\"th column\")\n",
        "            val = int(input())\n",
        "            temp.append(val)\n",
        "        mat_a.append(temp)\n",
        "\n",
        "    print(mat_a)\n",
        "    return\n",
        "\n",
        "\n",
        "#Taking the dimensions of the matrices\n",
        "rows_of_mat_a,cols_of_mat_a  = int(input(\"Please enter the no. of rows of matrix A : \")),int(input(\"Please enter the no. of columns of matrix  A : \"))\n",
        "\n",
        "mat_a,result = [],[] # intializing the mat_a to null.\n",
        "\n",
        "# matrix_input(rows_of_mat_a,cols_of_mat_a,mat_a) # taking the matrix input through a function.\n",
        "mat_a = np.array([[1,2],[3,4]])\n",
        "eigen_values, eigen_vectors = la.eig(mat_a)\n",
        "print(\"Eigen_values for the given Matrix is :\",eigen_values)\n",
        "print(\"Eigen_vectors for the given Matrix is :\",eigen_vectors)"
      ],
      "metadata": {
        "colab": {
          "base_uri": "https://localhost:8080/"
        },
        "id": "DmlHIOYdUaUT",
        "outputId": "3ff6bccf-44c7-47ae-ae77-0fe679970ac7"
      },
      "execution_count": 8,
      "outputs": [
        {
          "output_type": "stream",
          "name": "stdout",
          "text": [
            "Please enter the no. of rows of matrix A : 2\n",
            "Please enter the no. of columns of matrix  A : 2\n",
            "please enter a number into the matrix positioned 0th row and 0th column\n",
            "0\n",
            "please enter a number into the matrix positioned 0th row and 1th column\n",
            "2\n",
            "please enter a number into the matrix positioned 1th row and 0th column\n",
            "2\n",
            "please enter a number into the matrix positioned 1th row and 1th column\n",
            "3\n",
            "[[0, 2], [2, 3]]\n",
            "Eigen_values for the given Matrix is : [-1.  4.]\n",
            "Eigen_vectors for the given Matrix is : [[-0.89442719 -0.4472136 ]\n",
            " [ 0.4472136  -0.89442719]]\n"
          ]
        }
      ]
    },
    {
      "cell_type": "code",
      "source": [
        "# call numpy transposes\n",
        "# Normalise - divide each vector by its norm.\n",
        "mat_a = np.array([[1,2],[3,4]])\n",
        "A_ApowerT = np.dot(mat_a,mat_a.transpose())\n",
        "ApowerT_A = np.dot(mat_a.transpose(),mat_a)\n",
        "print(A_ApowerT,ApowerT_A)\n"
      ],
      "metadata": {
        "colab": {
          "base_uri": "https://localhost:8080/"
        },
        "id": "j6gjSsLKcQS9",
        "outputId": "d999ea03-cb05-42ee-b664-70269048b101"
      },
      "execution_count": 15,
      "outputs": [
        {
          "output_type": "stream",
          "name": "stdout",
          "text": [
            "[[ 5 11]\n",
            " [11 25]] [[10 14]\n",
            " [14 20]]\n"
          ]
        }
      ]
    },
    {
      "cell_type": "code",
      "source": [
        "#non-square matrix\n",
        "a = np.array([[1,2,3], [4,5,6]])\n",
        "# Using SVD\n",
        "u, s, r = np.linalg.svd(a)\n",
        "# Singular values\n",
        "singular_values = s\n",
        "# Left singular vectors : eigen values of A and A transpose\n",
        "left_singular_vectors = u\n",
        "# Right singular vectors : eigen values of A transpose and A\n",
        "right_singular_vectors = r.transpose()\n",
        "\n",
        "print(\"Singular Values(lambda):\",singular_values)\n",
        "print(\"\\nLeft Singular Vectors(U):\",'\\n',left_singular_vectors)\n",
        "print(\"\\nRight Singular Vectors(VTrans):\",'\\n',right_singular_vectors)\n"
      ],
      "metadata": {
        "colab": {
          "base_uri": "https://localhost:8080/"
        },
        "id": "C7qZ7OEIn1QU",
        "outputId": "72dcc348-a14c-40ee-dd4d-548ff12dcffa"
      },
      "execution_count": 17,
      "outputs": [
        {
          "output_type": "stream",
          "name": "stdout",
          "text": [
            "Singular Values(lambda): [9.508032   0.77286964]\n",
            "\n",
            "Left Singular Vectors(U): \n",
            " [[-0.3863177  -0.92236578]\n",
            " [-0.92236578  0.3863177 ]]\n",
            "\n",
            "Right Singular Vectors(VTrans): \n",
            " [[-0.42866713  0.80596391  0.40824829]\n",
            " [-0.56630692  0.11238241 -0.81649658]\n",
            " [-0.7039467  -0.58119908  0.40824829]]\n"
          ]
        }
      ]
    }
  ]
}