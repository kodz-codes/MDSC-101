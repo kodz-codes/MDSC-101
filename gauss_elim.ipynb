{
  "nbformat": 4,
  "nbformat_minor": 0,
  "metadata": {
    "colab": {
      "provenance": []
    },
    "kernelspec": {
      "name": "python3",
      "display_name": "Python 3"
    },
    "language_info": {
      "name": "python"
    }
  },
  "cells": [
    {
      "cell_type": "code",
      "execution_count": 1,
      "metadata": {
        "colab": {
          "base_uri": "https://localhost:8080/"
        },
        "id": "ymRhijUt8q6d",
        "outputId": "bf28c5a1-5a3d-4ddf-ffaf-fcc14b30a60f"
      },
      "outputs": [
        {
          "output_type": "stream",
          "name": "stdout",
          "text": [
            "Mounted at /content/gdrive\n"
          ]
        }
      ],
      "source": [
        "from google.colab import drive\n",
        "drive.mount('/content/gdrive')"
      ]
    },
    {
      "cell_type": "code",
      "source": [
        "def matrix_input(mat_a):\n",
        "    #Taking the input values of matrix A\n",
        "    for i in range(0,rows_of_mat_a):\n",
        "        temp = []\n",
        "        for j in range(0,cols_of_mat_a):\n",
        "            print(\"please enter a number into the matrix positioned \"+ str(i) +\"th row and \"+ str(j) +\"th column\")\n",
        "            val = int(input())\n",
        "            temp.append(val)\n",
        "        mat_a.append(temp)\n",
        "\n",
        "    print(mat_a)\n",
        "    return\n",
        "\n",


        "def gauss_elim(matrix):\n",
        "  arr=[]\n",
        "\n",
        "  mat = copy.deepcopy(matrix)\n",
        "\n",
        "  pivot,const=0,0\n",
        "  for i in range(len(mat)-1):\n",
        "    for k in range(i+1,len(mat)):\n",
        "      for j in range(i,len(mat[i])):\n",
        "        if i==j:\n",
        "          pivot=mat[i][j]\n",
        "\n",
        "        if pivot==0:\n",
        "          #Swapping a row if non-zero row is found until zero pivot element\n",
        "          for x in range(i+1,len(mat)):\n",
        "            if mat[x][i]!=0:\n",
        "              temp=mat[x]\n",
        "              mat[x]=mat[i]\n",
        "              mat[i]=temp\n",
        "              #Print(mat)\n",
        "              break\n",
        "          pivot=mat[i][j]\n",
        "\n",
        "        if const==0:\n",
        "          const=mat[k][i]/pivot\n",
        "\n",
        "        mat[k][j]=round(mat[k][j]-const*mat[i][j],3)\n",
        "\n",
        "      const=0\n",
        "  return mat \n",
        "\n",
        "\n",
        "#Taking the dimensions of the matrices\n",
        "rows_of_mat_a,cols_of_mat_a  = int(input(\"Please enter the no. of rows of matrix A : \")),int(input(\"Please enter the no. of columns of matrix  A : \"))\n",
        "\n",
        "mat_a,result = [],[] # intializing the mat_a to null.\n",
        "\n",
        "matrix_input(mat_a) # taking the matrix input through a function.\n",
        "\n",
        "gauss_elim(mat_a)"
      ],
      "metadata": {
        "colab": {
          "base_uri": "https://localhost:8080/"
        },
        "id": "P4NGJPnk-8hs",
        "outputId": "01853611-e96f-41af-df66-a2a92eaa809e"
      },
      "execution_count": 47,
      "outputs": [
        {
          "output_type": "stream",
          "name": "stdout",
          "text": [
            "Please enter the no. of rows of matrix A : 2\n",
            "Please enter the no. of columns of matrix  A : 2\n",
            "please enter a number into the matrix positioned 0th row and 0th column\n",
            "2\n",
            "please enter a number into the matrix positioned 0th row and 1th column\n",
            "3\n",
            "please enter a number into the matrix positioned 1th row and 0th column\n",
            "4\n",
            "please enter a number into the matrix positioned 1th row and 1th column\n",
            "6\n",
            "[[2, 3], [4, 6]]\n"
          ]
        },
        {
          "output_type": "execute_result",
          "data": {
            "text/plain": [
              "[[2, 3], [-4.0, -6.0]]"
            ]
          },
          "metadata": {},
          "execution_count": 47
        }
      ]
    }
  ]
}
